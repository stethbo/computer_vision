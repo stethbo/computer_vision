{
  "nbformat": 4,
  "nbformat_minor": 0,
  "metadata": {
    "colab": {
      "provenance": [],
      "mount_file_id": "1zUskhkT55lNjt-eGwgnjudgyHOzWz1YE",
      "authorship_tag": "ABX9TyNC3DE+jk6NqCZnbINv8ghc"
    },
    "kernelspec": {
      "name": "python3",
      "display_name": "Python 3"
    },
    "language_info": {
      "name": "python"
    }
  },
  "cells": [
    {
      "cell_type": "code",
      "execution_count": null,
      "metadata": {
        "id": "3Mspcv1HHXSZ"
      },
      "outputs": [],
      "source": [
        "import cv2\n",
        "import matplotlib.pyplot as plt"
      ]
    },
    {
      "cell_type": "code",
      "source": [
        "video_path = '/content/drive/MyDrive/DeepLearning/CV-project/videos/DJI_0593_lądowisko_H.MP4'"
      ],
      "metadata": {
        "id": "xALjYPlMHdqP"
      },
      "execution_count": null,
      "outputs": []
    },
    {
      "cell_type": "markdown",
      "source": [
        "### Cutting frames from the right part of a video **[DONE]**"
      ],
      "metadata": {
        "id": "AqQ14905mxBA"
      }
    },
    {
      "cell_type": "code",
      "source": [
        "photos_folder_path = \"/content/drive/MyDrive/DeepLearning/CV-project/H_center/\"\n",
        "\n",
        "# caturing the video\n",
        "video = cv2.VideoCapture(video_path)\n",
        "total_frames = int(video.get(cv2.CAP_PROP_FRAME_COUNT))\n",
        "frame_counter = 0\n",
        "start_frame = 5*60\n",
        "end_frame = 11*60\n",
        "\n",
        "# loop converting video into frames\n",
        "while video.isOpened():\n",
        "    success, img = video.read()\n",
        "    if not success or frame_counter > end_frame:\n",
        "        break\n",
        "    if frame_counter >= start_frame:\n",
        "        width_cen = img.shape[1] / 3\n",
        "        # cutting right two thirds of the image\n",
        "        img = img[0:-1, int(width_cen):-1]\n",
        "        # resizing image into 256x256\n",
        "        img_center = img.shape[1] / 2, img.shape[0] / 2\n",
        "        temp_shape = min(img.shape[0:2]), min(img.shape[0:2])\n",
        "        img = cv2.getRectSubPix(img, temp_shape, center=img_center)\n",
        "        img = cv2.resize(img, dsize=(256, 256))\n",
        "\n",
        "        cv2.imwrite(photos_folder_path + f'img_{frame_counter}.jpg', img)\n",
        "    frame_counter += 1\n",
        "\n",
        "video.release()"
      ],
      "metadata": {
        "id": "BsqN7HtrOQEm"
      },
      "execution_count": null,
      "outputs": []
    },
    {
      "cell_type": "markdown",
      "source": [
        "### Let's capture some blue landings\n",
        "* goal - cut inner 512x512"
      ],
      "metadata": {
        "id": "Ja94-XtLnGjv"
      }
    },
    {
      "cell_type": "code",
      "source": [
        "photos_folder_path = \"/content/drive/MyDrive/DeepLearning/CV-project/H_center/\"\n",
        "\n",
        "# caturing the video\n",
        "video = cv2.VideoCapture(video_path)\n",
        "total_frames = int(video.get(cv2.CAP_PROP_FRAME_COUNT))\n",
        "frame_counter = 0\n",
        "start_frame = 47*60\n",
        "end_frame = 50*60\n",
        "\n",
        "# loop converting video into frames\n",
        "while video.isOpened():\n",
        "    success, img = video.read()\n",
        "    if not success or frame_counter > end_frame:\n",
        "        break\n",
        "    if frame_counter >= start_frame:\n",
        "        # Get the size of the image\n",
        "        height, width = img.shape[:2]\n",
        "\n",
        "        # Calculate the center point of the image\n",
        "        center = (width // 2, height // 2)\n",
        "\n",
        "        # Extract a 512x512 pixels square from the center of the image\n",
        "        img = cv2.getRectSubPix(img, (512, 512), center)\n",
        "\n",
        "        # plt.imshow(img)\n",
        "        # plt.show()\n",
        "        cv2.imwrite(photos_folder_path + f'img_{frame_counter}.jpg', img)\n",
        "    frame_counter += 1\n",
        "\n",
        "video.release()"
      ],
      "metadata": {
        "id": "w-yoQWTArDKf"
      },
      "execution_count": null,
      "outputs": []
    },
    {
      "cell_type": "code",
      "source": [],
      "metadata": {
        "id": "4Se7J-NOpgdo"
      },
      "execution_count": null,
      "outputs": []
    }
  ]
}